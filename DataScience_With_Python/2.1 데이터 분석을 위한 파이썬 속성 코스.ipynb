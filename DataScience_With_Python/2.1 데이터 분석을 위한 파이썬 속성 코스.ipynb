{
 "cells": [
  {
   "metadata": {},
   "cell_type": "markdown",
   "source": "### Zen of Python",
   "id": "91211df4ac44a51a"
  },
  {
   "cell_type": "code",
   "id": "initial_id",
   "metadata": {
    "collapsed": true,
    "ExecuteTime": {
     "end_time": "2024-08-02T03:55:34.925836Z",
     "start_time": "2024-08-02T03:55:34.919729Z"
    }
   },
   "source": "import this",
   "outputs": [
    {
     "name": "stdout",
     "output_type": "stream",
     "text": [
      "The Zen of Python, by Tim Peters\n",
      "\n",
      "Beautiful is better than ugly.\n",
      "Explicit is better than implicit.\n",
      "Simple is better than complex.\n",
      "Complex is better than complicated.\n",
      "Flat is better than nested.\n",
      "Sparse is better than dense.\n",
      "Readability counts.\n",
      "Special cases aren't special enough to break the rules.\n",
      "Although practicality beats purity.\n",
      "Errors should never pass silently.\n",
      "Unless explicitly silenced.\n",
      "In the face of ambiguity, refuse the temptation to guess.\n",
      "There should be one-- and preferably only one --obvious way to do it.\n",
      "Although that way may not be obvious at first unless you're Dutch.\n",
      "Now is better than never.\n",
      "Although never is often better than *right* now.\n",
      "If the implementation is hard to explain, it's a bad idea.\n",
      "If the implementation is easy to explain, it may be a good idea.\n",
      "Namespaces are one honking great idea -- let's do more of those!\n"
     ]
    }
   ],
   "execution_count": 1
  },
  {
   "metadata": {},
   "cell_type": "markdown",
   "source": "### boolean",
   "id": "3af3e7dddb6f97c2"
  },
  {
   "metadata": {
    "ExecuteTime": {
     "end_time": "2024-08-02T03:55:35.129758Z",
     "start_time": "2024-08-02T03:55:35.125284Z"
    }
   },
   "cell_type": "code",
   "source": [
    "# 1. True를 출력해 보세요.\n",
    "True"
   ],
   "id": "369d912f5cbd898b",
   "outputs": [
    {
     "data": {
      "text/plain": [
       "True"
      ]
     },
     "execution_count": 2,
     "metadata": {},
     "output_type": "execute_result"
    }
   ],
   "execution_count": 2
  },
  {
   "metadata": {
    "ExecuteTime": {
     "end_time": "2024-08-02T03:55:35.151112Z",
     "start_time": "2024-08-02T03:55:35.147641Z"
    }
   },
   "cell_type": "code",
   "source": [
    "# 2. False를 출력해 보세요.\n",
    "False"
   ],
   "id": "138c272744251d76",
   "outputs": [
    {
     "data": {
      "text/plain": [
       "False"
      ]
     },
     "execution_count": 3,
     "metadata": {},
     "output_type": "execute_result"
    }
   ],
   "execution_count": 3
  },
  {
   "metadata": {
    "ExecuteTime": {
     "end_time": "2024-08-02T03:55:35.203479Z",
     "start_time": "2024-08-02T03:55:35.200223Z"
    }
   },
   "cell_type": "code",
   "source": [
    "# 3. True는 1과 같음을 표현해 보세요. 파이썬에서는 같음을 비교할 때 == 연산을 사용합니다.\n",
    "True == 1"
   ],
   "id": "9aa2d56333d7d5d8",
   "outputs": [
    {
     "data": {
      "text/plain": [
       "True"
      ]
     },
     "execution_count": 4,
     "metadata": {},
     "output_type": "execute_result"
    }
   ],
   "execution_count": 4
  },
  {
   "metadata": {
    "ExecuteTime": {
     "end_time": "2024-08-02T03:55:35.239607Z",
     "start_time": "2024-08-02T03:55:35.236022Z"
    }
   },
   "cell_type": "code",
   "source": [
    "# 4. 하지만 True는 문자 1과 다릅니다. 1을 따옴표로 감싸면 문자열이 됩니다.\n",
    "True == \"1\""
   ],
   "id": "700bec3ea4c4b21f",
   "outputs": [
    {
     "data": {
      "text/plain": [
       "False"
      ]
     },
     "execution_count": 5,
     "metadata": {},
     "output_type": "execute_result"
    }
   ],
   "execution_count": 5
  },
  {
   "metadata": {
    "ExecuteTime": {
     "end_time": "2024-08-02T03:55:35.267081Z",
     "start_time": "2024-08-02T03:55:35.263745Z"
    }
   },
   "cell_type": "code",
   "source": [
    "# 5. 문자열 1과 True는 다릅니다.\n",
    "True != \"1\""
   ],
   "id": "4c7a36e82333ee8f",
   "outputs": [
    {
     "data": {
      "text/plain": [
       "True"
      ]
     },
     "execution_count": 6,
     "metadata": {},
     "output_type": "execute_result"
    }
   ],
   "execution_count": 6
  },
  {
   "metadata": {
    "ExecuteTime": {
     "end_time": "2024-08-02T03:55:35.294518Z",
     "start_time": "2024-08-02T03:55:35.291166Z"
    }
   },
   "cell_type": "code",
   "source": [
    "# 6. False도 마찬가지 입니다.\n",
    "False == \"0\""
   ],
   "id": "5b44068ed1374903",
   "outputs": [
    {
     "data": {
      "text/plain": [
       "False"
      ]
     },
     "execution_count": 7,
     "metadata": {},
     "output_type": "execute_result"
    }
   ],
   "execution_count": 7
  },
  {
   "metadata": {
    "ExecuteTime": {
     "end_time": "2024-08-02T03:55:35.355360Z",
     "start_time": "2024-08-02T03:55:35.352171Z"
    }
   },
   "cell_type": "code",
   "source": [
    "# 7. False는 문자열 0과 다릅니다.\n",
    "False != \"0\""
   ],
   "id": "1cef83a7e712288d",
   "outputs": [
    {
     "data": {
      "text/plain": [
       "True"
      ]
     },
     "execution_count": 8,
     "metadata": {},
     "output_type": "execute_result"
    }
   ],
   "execution_count": 8
  },
  {
   "metadata": {
    "ExecuteTime": {
     "end_time": "2024-08-02T03:55:35.369862Z",
     "start_time": "2024-08-02T03:55:35.366816Z"
    }
   },
   "cell_type": "code",
   "source": [
    "# 8. and 연산으로 True 값 끼리 비교합니다.\n",
    "#     and는 모든 값이 True 일때만 True가 됩니다.\n",
    "True and True"
   ],
   "id": "5063bb7d3bf7775d",
   "outputs": [
    {
     "data": {
      "text/plain": [
       "True"
      ]
     },
     "execution_count": 9,
     "metadata": {},
     "output_type": "execute_result"
    }
   ],
   "execution_count": 9
  },
  {
   "metadata": {
    "ExecuteTime": {
     "end_time": "2024-08-02T03:55:35.397493Z",
     "start_time": "2024-08-02T03:55:35.394736Z"
    }
   },
   "cell_type": "code",
   "source": [
    "# 9. and는 조건 중 하나라도 False라면 False가 됩니다.\n",
    "True and False"
   ],
   "id": "ee88e5d83c5067d3",
   "outputs": [
    {
     "data": {
      "text/plain": [
       "False"
      ]
     },
     "execution_count": 10,
     "metadata": {},
     "output_type": "execute_result"
    }
   ],
   "execution_count": 10
  },
  {
   "metadata": {
    "ExecuteTime": {
     "end_time": "2024-08-02T03:55:35.454585Z",
     "start_time": "2024-08-02T03:55:35.451448Z"
    }
   },
   "cell_type": "code",
   "source": [
    "# 10. or은 하나만 True 라도 True가 됩니다.\n",
    "True or False"
   ],
   "id": "bea9a841d792aa10",
   "outputs": [
    {
     "data": {
      "text/plain": [
       "True"
      ]
     },
     "execution_count": 11,
     "metadata": {},
     "output_type": "execute_result"
    }
   ],
   "execution_count": 11
  },
  {
   "metadata": {},
   "cell_type": "markdown",
   "source": "### Number and String",
   "id": "cdbad665eb57caf6"
  },
  {
   "metadata": {
    "ExecuteTime": {
     "end_time": "2024-08-02T03:55:35.506277Z",
     "start_time": "2024-08-02T03:55:35.503225Z"
    }
   },
   "cell_type": "code",
   "source": [
    "# 숫자 1을 출력해 보세요.\n",
    "1"
   ],
   "id": "28f2c5e39dfda81a",
   "outputs": [
    {
     "data": {
      "text/plain": [
       "1"
      ]
     },
     "execution_count": 12,
     "metadata": {},
     "output_type": "execute_result"
    }
   ],
   "execution_count": 12
  },
  {
   "metadata": {
    "ExecuteTime": {
     "end_time": "2024-08-02T03:55:35.548308Z",
     "start_time": "2024-08-02T03:55:35.545723Z"
    }
   },
   "cell_type": "code",
   "source": [
    "# 문자 1을 출력해 보세요.\n",
    "\"1\""
   ],
   "id": "2fffa5ad3aa36bc9",
   "outputs": [
    {
     "data": {
      "text/plain": [
       "'1'"
      ]
     },
     "execution_count": 13,
     "metadata": {},
     "output_type": "execute_result"
    }
   ],
   "execution_count": 13
  },
  {
   "metadata": {
    "ExecuteTime": {
     "end_time": "2024-08-02T03:55:35.563758Z",
     "start_time": "2024-08-02T03:55:35.561036Z"
    }
   },
   "cell_type": "code",
   "source": [
    "# 숫자 1의 데이터 타입을 출력해 보세요.\n",
    "type(1)"
   ],
   "id": "7e63f8a68649536b",
   "outputs": [
    {
     "data": {
      "text/plain": [
       "int"
      ]
     },
     "execution_count": 14,
     "metadata": {},
     "output_type": "execute_result"
    }
   ],
   "execution_count": 14
  },
  {
   "metadata": {
    "ExecuteTime": {
     "end_time": "2024-08-02T03:55:35.582222Z",
     "start_time": "2024-08-02T03:55:35.579171Z"
    }
   },
   "cell_type": "code",
   "source": [
    "# 문자 1의 데이터 타입을 출력해 보세요.\n",
    "type(\"1\")"
   ],
   "id": "4388cda1361d8225",
   "outputs": [
    {
     "data": {
      "text/plain": [
       "str"
      ]
     },
     "execution_count": 15,
     "metadata": {},
     "output_type": "execute_result"
    }
   ],
   "execution_count": 15
  },
  {
   "metadata": {
    "ExecuteTime": {
     "end_time": "2024-08-02T03:55:35.622885Z",
     "start_time": "2024-08-02T03:55:35.619308Z"
    }
   },
   "cell_type": "code",
   "source": [
    "# 문자 1과 숫자 1을 비교합니다.\n",
    "1 == \"1\""
   ],
   "id": "8404a27d76c928b0",
   "outputs": [
    {
     "data": {
      "text/plain": [
       "False"
      ]
     },
     "execution_count": 16,
     "metadata": {},
     "output_type": "execute_result"
    }
   ],
   "execution_count": 16
  },
  {
   "metadata": {},
   "cell_type": "markdown",
   "source": "### Strings and Lists",
   "id": "a8d4d6613b3cd4da"
  },
  {
   "metadata": {
    "ExecuteTime": {
     "end_time": "2024-08-02T03:55:35.640500Z",
     "start_time": "2024-08-02T03:55:35.637749Z"
    }
   },
   "cell_type": "code",
   "source": [
    "# \"Hello World!\"를 출력해 봅니다.\n",
    "\"Hello World!\""
   ],
   "id": "68300d1ba02447c3",
   "outputs": [
    {
     "data": {
      "text/plain": [
       "'Hello World!'"
      ]
     },
     "execution_count": 17,
     "metadata": {},
     "output_type": "execute_result"
    }
   ],
   "execution_count": 17
  },
  {
   "metadata": {
    "ExecuteTime": {
     "end_time": "2024-08-02T03:55:35.678145Z",
     "start_time": "2024-08-02T03:55:35.675158Z"
    }
   },
   "cell_type": "code",
   "source": [
    "# 주소 \"경기도 성남시 분당구\"를 출력해 봅니다.\n",
    "\"경기도 성남시 분당구\""
   ],
   "id": "b235856e48ee765a",
   "outputs": [
    {
     "data": {
      "text/plain": [
       "'경기도 성남시 분당구'"
      ]
     },
     "execution_count": 18,
     "metadata": {},
     "output_type": "execute_result"
    }
   ],
   "execution_count": 18
  },
  {
   "metadata": {},
   "cell_type": "markdown",
   "source": "### strings",
   "id": "33199f116f3fcfb1"
  },
  {
   "metadata": {
    "ExecuteTime": {
     "end_time": "2024-08-02T03:55:35.701089Z",
     "start_time": "2024-08-02T03:55:35.698046Z"
    }
   },
   "cell_type": "code",
   "source": [
    "# til 이라는 변수에 문자열을 담아봅니다.\n",
    "til = \"Today I Learned\"\n",
    "til"
   ],
   "id": "9393630df9e86ad9",
   "outputs": [
    {
     "data": {
      "text/plain": [
       "'Today I Learned'"
      ]
     },
     "execution_count": 19,
     "metadata": {},
     "output_type": "execute_result"
    }
   ],
   "execution_count": 19
  },
  {
   "metadata": {
    "ExecuteTime": {
     "end_time": "2024-08-02T03:55:35.740485Z",
     "start_time": "2024-08-02T03:55:35.737334Z"
    }
   },
   "cell_type": "code",
   "source": [
    "# 모두 소문자로 만들어 보세요.\n",
    "til.lower()"
   ],
   "id": "15d64eaa00cb4307",
   "outputs": [
    {
     "data": {
      "text/plain": [
       "'today i learned'"
      ]
     },
     "execution_count": 20,
     "metadata": {},
     "output_type": "execute_result"
    }
   ],
   "execution_count": 20
  },
  {
   "metadata": {
    "ExecuteTime": {
     "end_time": "2024-08-02T03:55:35.761589Z",
     "start_time": "2024-08-02T03:55:35.758319Z"
    }
   },
   "cell_type": "code",
   "source": [
    "# 모두 대문자로 만들어 보세요.\n",
    "til.upper()"
   ],
   "id": "5d3d56b8b481a04b",
   "outputs": [
    {
     "data": {
      "text/plain": [
       "'TODAY I LEARNED'"
      ]
     },
     "execution_count": 21,
     "metadata": {},
     "output_type": "execute_result"
    }
   ],
   "execution_count": 21
  },
  {
   "metadata": {},
   "cell_type": "markdown",
   "source": "### lists",
   "id": "b0a84bc1b328a564"
  },
  {
   "metadata": {
    "ExecuteTime": {
     "end_time": "2024-08-02T03:55:35.803384Z",
     "start_time": "2024-08-02T03:55:35.799851Z"
    }
   },
   "cell_type": "code",
   "source": [
    "# 비어있는 리스트를 만듭니다. lang이라는 변수에 담습니다.\n",
    "lang = []\n",
    "lang"
   ],
   "id": "5694dec4dfa392bf",
   "outputs": [
    {
     "data": {
      "text/plain": [
       "[]"
      ]
     },
     "execution_count": 22,
     "metadata": {},
     "output_type": "execute_result"
    }
   ],
   "execution_count": 22
  },
  {
   "metadata": {
    "ExecuteTime": {
     "end_time": "2024-08-02T03:55:35.828923Z",
     "start_time": "2024-08-02T03:55:35.825288Z"
    }
   },
   "cell_type": "code",
   "source": [
    "# python, java, c를 원소에 추가합니다.\n",
    "lang.append(\"python\")\n",
    "lang.append(\"java\")\n",
    "lang.append(\"c\")\n",
    "lang"
   ],
   "id": "6ad5a7e251873bc2",
   "outputs": [
    {
     "data": {
      "text/plain": [
       "['python', 'java', 'c']"
      ]
     },
     "execution_count": 23,
     "metadata": {},
     "output_type": "execute_result"
    }
   ],
   "execution_count": 23
  },
  {
   "metadata": {
    "ExecuteTime": {
     "end_time": "2024-08-02T03:55:35.882860Z",
     "start_time": "2024-08-02T03:55:35.879119Z"
    }
   },
   "cell_type": "code",
   "source": [
    "# lang이라는 변수에 담겨있는 언어명을 인덱싱을 통해 가져옵니다.\n",
    "lang[0]"
   ],
   "id": "9e419f4ec38bc9bd",
   "outputs": [
    {
     "data": {
      "text/plain": [
       "'python'"
      ]
     },
     "execution_count": 24,
     "metadata": {},
     "output_type": "execute_result"
    }
   ],
   "execution_count": 24
  },
  {
   "metadata": {
    "ExecuteTime": {
     "end_time": "2024-08-02T03:55:35.901222Z",
     "start_time": "2024-08-02T03:55:35.896990Z"
    }
   },
   "cell_type": "code",
   "source": [
    "# 1번 인덱스를 가져옵니다.\n",
    "lang[1]"
   ],
   "id": "e2ac30cc949af483",
   "outputs": [
    {
     "data": {
      "text/plain": [
       "'java'"
      ]
     },
     "execution_count": 25,
     "metadata": {},
     "output_type": "execute_result"
    }
   ],
   "execution_count": 25
  },
  {
   "metadata": {
    "ExecuteTime": {
     "end_time": "2024-08-02T03:55:35.922681Z",
     "start_time": "2024-08-02T03:55:35.918863Z"
    }
   },
   "cell_type": "code",
   "source": [
    "# 마지막 인덱스를 가져옵니다.\n",
    "lang[-1]"
   ],
   "id": "f28995e928d24917",
   "outputs": [
    {
     "data": {
      "text/plain": [
       "'c'"
      ]
     },
     "execution_count": 26,
     "metadata": {},
     "output_type": "execute_result"
    }
   ],
   "execution_count": 26
  },
  {
   "metadata": {},
   "cell_type": "markdown",
   "source": "### 제어문(조건문, 반복문)",
   "id": "5f0208514656c40b"
  },
  {
   "metadata": {
    "ExecuteTime": {
     "end_time": "2024-08-02T03:55:35.965364Z",
     "start_time": "2024-08-02T03:55:35.962484Z"
    }
   },
   "cell_type": "code",
   "source": [
    "# 반복문을 통해 리스트의 원소를 하나씩 출력합니다.\n",
    "for i in lang:\n",
    "    print(i)"
   ],
   "id": "28444d155d2462f2",
   "outputs": [
    {
     "name": "stdout",
     "output_type": "stream",
     "text": [
      "python\n",
      "java\n",
      "c\n"
     ]
    }
   ],
   "execution_count": 27
  },
  {
   "metadata": {
    "ExecuteTime": {
     "end_time": "2024-08-02T03:55:35.997096Z",
     "start_time": "2024-08-02T03:55:35.994026Z"
    }
   },
   "cell_type": "code",
   "source": [
    "# 위 코드에서 python일 때는 그대로 출력하고 나머지 텍스트는 \"기타\"라고 출력합니다.\n",
    "# 출력 결과가 아래의 순서로 나오도록 합니다.\n",
    "# python\n",
    "# 기타\n",
    "# 기타\n",
    "for i in lang:\n",
    "    if i == \"python\":\n",
    "        print(\"python\")\n",
    "    else:\n",
    "        print(\"기타\")"
   ],
   "id": "a73949c3f29c0512",
   "outputs": [
    {
     "name": "stdout",
     "output_type": "stream",
     "text": [
      "python\n",
      "기타\n",
      "기타\n"
     ]
    }
   ],
   "execution_count": 28
  },
  {
   "metadata": {
    "ExecuteTime": {
     "end_time": "2024-08-02T03:55:36.068161Z",
     "start_time": "2024-08-02T03:55:36.065195Z"
    }
   },
   "cell_type": "code",
   "source": [
    "# 특정 횟수만큼 반복문을 실행하도록 합니다.\n",
    "for i in range(5):\n",
    "    print(i)"
   ],
   "id": "aa9d9aad79eec6a7",
   "outputs": [
    {
     "name": "stdout",
     "output_type": "stream",
     "text": [
      "0\n",
      "1\n",
      "2\n",
      "3\n",
      "4\n"
     ]
    }
   ],
   "execution_count": 29
  },
  {
   "metadata": {
    "ExecuteTime": {
     "end_time": "2024-08-02T03:55:36.095763Z",
     "start_time": "2024-08-02T03:55:36.092190Z"
    }
   },
   "cell_type": "code",
   "source": [
    "# for문과 if문을 함께 사용해 봅니다.\n",
    "# 짝수일 때 python을 홀수일 때 java를 출력합니다.\n",
    "for i in range(1, 10):\n",
    "    if i % 2 == 0:\n",
    "        print(\"python\")\n",
    "    else:\n",
    "        print(\"java\")"
   ],
   "id": "fd528b9c4db1e89f",
   "outputs": [
    {
     "name": "stdout",
     "output_type": "stream",
     "text": [
      "java\n",
      "python\n",
      "java\n",
      "python\n",
      "java\n",
      "python\n",
      "java\n",
      "python\n",
      "java\n"
     ]
    }
   ],
   "execution_count": 30
  },
  {
   "metadata": {
    "ExecuteTime": {
     "end_time": "2024-08-02T03:55:36.140455Z",
     "start_time": "2024-08-02T03:55:36.127493Z"
    }
   },
   "cell_type": "code",
   "source": [
    "# enumerate를 사용하면 인덱스 번호와 원소를 같이 가져올 수 있습니다.\n",
    "for i, val in enumerate(lang):\n",
    "    print(i, val)"
   ],
   "id": "8340a0d6ac95e65",
   "outputs": [
    {
     "name": "stdout",
     "output_type": "stream",
     "text": [
      "0 python\n",
      "1 java\n",
      "2 c\n"
     ]
    }
   ],
   "execution_count": 31
  },
  {
   "metadata": {},
   "cell_type": "markdown",
   "source": "### 문자열",
   "id": "7abd2233f9c2880"
  },
  {
   "metadata": {
    "ExecuteTime": {
     "end_time": "2024-08-02T03:55:36.198952Z",
     "start_time": "2024-08-02T03:55:36.193967Z"
    }
   },
   "cell_type": "code",
   "source": [
    "# 주소를 address 변수에 담습니다.\n",
    "address = \" 경기도 성남시 분당구 불정로 6 NAVER 그린팩토리 16층\"\n",
    "address"
   ],
   "id": "f1a2a2c3ffb01d12",
   "outputs": [
    {
     "data": {
      "text/plain": [
       "' 경기도 성남시 분당구 불정로 6 NAVER 그린팩토리 16층'"
      ]
     },
     "execution_count": 32,
     "metadata": {},
     "output_type": "execute_result"
    }
   ],
   "execution_count": 32
  },
  {
   "metadata": {
    "ExecuteTime": {
     "end_time": "2024-08-02T03:55:36.273188Z",
     "start_time": "2024-08-02T03:55:36.268194Z"
    }
   },
   "cell_type": "code",
   "source": [
    "# 앞뒤 공백을 제거합니다.\n",
    "# 데이터 전처리 시 주로 사용합니다.\n",
    "address = address.strip()\n",
    "address\n"
   ],
   "id": "80214450e731d4ae",
   "outputs": [
    {
     "data": {
      "text/plain": [
       "'경기도 성남시 분당구 불정로 6 NAVER 그린팩토리 16층'"
      ]
     },
     "execution_count": 33,
     "metadata": {},
     "output_type": "execute_result"
    }
   ],
   "execution_count": 33
  },
  {
   "metadata": {
    "ExecuteTime": {
     "end_time": "2024-08-02T03:55:36.383720Z",
     "start_time": "2024-08-02T03:55:36.378091Z"
    }
   },
   "cell_type": "code",
   "source": [
    "# 문자열의 길이\n",
    "len(address)"
   ],
   "id": "aa025594141ded1f",
   "outputs": [
    {
     "data": {
      "text/plain": [
       "33"
      ]
     },
     "execution_count": 34,
     "metadata": {},
     "output_type": "execute_result"
    }
   ],
   "execution_count": 34
  },
  {
   "metadata": {
    "ExecuteTime": {
     "end_time": "2024-08-02T03:55:36.416254Z",
     "start_time": "2024-08-02T03:55:36.411640Z"
    }
   },
   "cell_type": "code",
   "source": [
    "# 공백으로 문자열 분리\n",
    "address_list = address.split()\n",
    "address_list"
   ],
   "id": "e5bafe2fd41ca228",
   "outputs": [
    {
     "data": {
      "text/plain": [
       "['경기도', '성남시', '분당구', '불정로', '6', 'NAVER', '그린팩토리', '16층']"
      ]
     },
     "execution_count": 35,
     "metadata": {},
     "output_type": "execute_result"
    }
   ],
   "execution_count": 35
  },
  {
   "metadata": {
    "ExecuteTime": {
     "end_time": "2024-08-02T03:55:36.473915Z",
     "start_time": "2024-08-02T03:55:36.469904Z"
    }
   },
   "cell_type": "code",
   "source": [
    "# 리스트 길이\n",
    "len(address_list)"
   ],
   "id": "bdb84754b32cc47f",
   "outputs": [
    {
     "data": {
      "text/plain": [
       "8"
      ]
     },
     "execution_count": 36,
     "metadata": {},
     "output_type": "execute_result"
    }
   ],
   "execution_count": 36
  },
  {
   "metadata": {},
   "cell_type": "markdown",
   "source": "### 슬라이싱, startswith, in을 통해 문자열에 경기가 있는지 확인하기",
   "id": "cf6162fcd67fcbc5"
  },
  {
   "metadata": {
    "ExecuteTime": {
     "end_time": "2024-08-02T03:55:36.516303Z",
     "start_time": "2024-08-02T03:55:36.512615Z"
    }
   },
   "cell_type": "code",
   "source": [
    "# 슬라이싱으로 문자 가져오기\n",
    "address:[:2]"
   ],
   "id": "60ac7c0753274e70",
   "outputs": [
    {
     "ename": "SyntaxError",
     "evalue": "invalid syntax (884947700.py, line 2)",
     "output_type": "error",
     "traceback": [
      "\u001B[0;36m  Cell \u001B[0;32mIn[37], line 2\u001B[0;36m\u001B[0m\n\u001B[0;31m    address:[:2]\u001B[0m\n\u001B[0m             ^\u001B[0m\n\u001B[0;31mSyntaxError\u001B[0m\u001B[0;31m:\u001B[0m invalid syntax\n"
     ]
    }
   ],
   "execution_count": 37
  },
  {
   "metadata": {
    "ExecuteTime": {
     "end_time": "2024-08-02T03:55:36.570532Z",
     "start_time": "2024-08-02T03:55:36.567212Z"
    }
   },
   "cell_type": "code",
   "source": [
    "# startswith를 사용하면 특정 문자가 포함되는지 여부를 확인할 수 있습니다.\n",
    "address.startswith(\"경기\")"
   ],
   "id": "8b6441eff80dbc61",
   "outputs": [
    {
     "data": {
      "text/plain": [
       "True"
      ]
     },
     "execution_count": 38,
     "metadata": {},
     "output_type": "execute_result"
    }
   ],
   "execution_count": 38
  },
  {
   "metadata": {
    "ExecuteTime": {
     "end_time": "2024-08-02T03:55:36.611596Z",
     "start_time": "2024-08-02T03:55:36.608002Z"
    }
   },
   "cell_type": "code",
   "source": [
    "# in을 사용하게 되면 특정 문자열을 포함하고 있는지 여부를 확인할 수 있습니다.\n",
    "\"경기\" in address"
   ],
   "id": "d7ef5367e7ec5fcf",
   "outputs": [
    {
     "data": {
      "text/plain": [
       "True"
      ]
     },
     "execution_count": 39,
     "metadata": {},
     "output_type": "execute_result"
    }
   ],
   "execution_count": 39
  },
  {
   "metadata": {},
   "cell_type": "markdown",
   "source": "### 리스트",
   "id": "144f0b74b6d9a1f8"
  },
  {
   "metadata": {
    "ExecuteTime": {
     "end_time": "2024-08-02T03:55:36.701239Z",
     "start_time": "2024-08-02T03:55:36.697755Z"
    }
   },
   "cell_type": "code",
   "source": [
    "# 인덱싱으로 리스트의 원소 가져오기 - 주소에서 구를 가져와 gu라는 변수에 담아보세요.\n",
    "gu = address_list[2]\n",
    "gu"
   ],
   "id": "646b87500ae65ef6",
   "outputs": [
    {
     "data": {
      "text/plain": [
       "'분당구'"
      ]
     },
     "execution_count": 40,
     "metadata": {},
     "output_type": "execute_result"
    }
   ],
   "execution_count": 40
  },
  {
   "metadata": {
    "ExecuteTime": {
     "end_time": "2024-08-02T03:55:36.719065Z",
     "start_time": "2024-08-02T03:55:36.715903Z"
    }
   },
   "cell_type": "code",
   "source": [
    "# 인덱싱으로 리스트의 원소 가져오기 - 주소에서 도로명을 가져와 street라는 변수에 담아보세요\n",
    "street = address_list[3]\n",
    "street"
   ],
   "id": "55fdaf40197ce0c0",
   "outputs": [
    {
     "data": {
      "text/plain": [
       "'불정로'"
      ]
     },
     "execution_count": 41,
     "metadata": {},
     "output_type": "execute_result"
    }
   ],
   "execution_count": 41
  },
  {
   "metadata": {
    "ExecuteTime": {
     "end_time": "2024-08-02T03:55:36.749101Z",
     "start_time": "2024-08-02T03:55:36.745946Z"
    }
   },
   "cell_type": "code",
   "source": [
    "# 리스트의 마지막을 가져옵니다.\n",
    "address_list[-1]"
   ],
   "id": "1fc0414a68b2d46b",
   "outputs": [
    {
     "data": {
      "text/plain": [
       "'16층'"
      ]
     },
     "execution_count": 42,
     "metadata": {},
     "output_type": "execute_result"
    }
   ],
   "execution_count": 42
  },
  {
   "metadata": {
    "ExecuteTime": {
     "end_time": "2024-08-02T03:55:36.798772Z",
     "start_time": "2024-08-02T03:55:36.795481Z"
    }
   },
   "cell_type": "code",
   "source": [
    "# \"  \".join(리스트)를 사용하면 리스트를 공백 문자열을 연결할 수 있습니다.\n",
    "# 리스트로 분리된 문자열을 다시 연결합니다.\n",
    "\" \".join(address_list)"
   ],
   "id": "59413894b0c9fed3",
   "outputs": [
    {
     "data": {
      "text/plain": [
       "'경기도 성남시 분당구 불정로 6 NAVER 그린팩토리 16층'"
      ]
     },
     "execution_count": 43,
     "metadata": {},
     "output_type": "execute_result"
    }
   ],
   "execution_count": 43
  },
  {
   "metadata": {
    "ExecuteTime": {
     "end_time": "2024-08-02T03:55:36.817236Z",
     "start_time": "2024-08-02T03:55:36.814139Z"
    }
   },
   "cell_type": "code",
   "source": [
    "# in을 사용하게 되면 리스트에 해당 데이터를 포함하고 있는지 여부를 확인할 수 있습니다.\n",
    "# \"경기\"가 리스트에 포함되는지를 봅니다.\n",
    "\"경기\" in address_list"
   ],
   "id": "b5070b900f5fa33c",
   "outputs": [
    {
     "data": {
      "text/plain": [
       "False"
      ]
     },
     "execution_count": 44,
     "metadata": {},
     "output_type": "execute_result"
    }
   ],
   "execution_count": 44
  },
  {
   "metadata": {
    "ExecuteTime": {
     "end_time": "2024-08-02T03:55:36.848570Z",
     "start_time": "2024-08-02T03:55:36.845711Z"
    }
   },
   "cell_type": "code",
   "source": [
    "# in을 사용하게 되면 리스트에 해당 데이터를 포함하고 있는지 여부를 확인할 수 있습니다.\n",
    "# \"분당구\"가 리스트에 포함되는지를 봅니다.\n",
    "\"분당구\" in address_list"
   ],
   "id": "c91ab513e15526f2",
   "outputs": [
    {
     "data": {
      "text/plain": [
       "True"
      ]
     },
     "execution_count": 45,
     "metadata": {},
     "output_type": "execute_result"
    }
   ],
   "execution_count": 45
  }
 ],
 "metadata": {
  "kernelspec": {
   "display_name": "Python 3",
   "language": "python",
   "name": "python3"
  },
  "language_info": {
   "codemirror_mode": {
    "name": "ipython",
    "version": 2
   },
   "file_extension": ".py",
   "mimetype": "text/x-python",
   "name": "python",
   "nbconvert_exporter": "python",
   "pygments_lexer": "ipython2",
   "version": "2.7.6"
  }
 },
 "nbformat": 4,
 "nbformat_minor": 5
}
