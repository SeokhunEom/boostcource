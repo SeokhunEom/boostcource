{
 "cells": [
  {
   "metadata": {
    "ExecuteTime": {
     "end_time": "2024-08-02T08:39:48.349249Z",
     "start_time": "2024-08-02T08:39:48.099674Z"
    }
   },
   "cell_type": "code",
   "source": [
    "import pandas as pd\n",
    "from glob import glob"
   ],
   "id": "17a6b9e45cff2929",
   "outputs": [],
   "execution_count": 1
  },
  {
   "metadata": {
    "ExecuteTime": {
     "end_time": "2024-08-02T08:39:48.354232Z",
     "start_time": "2024-08-02T08:39:48.350198Z"
    }
   },
   "cell_type": "code",
   "source": [
    "file_name = glob(\"data/*\")[0]\n",
    "file_name"
   ],
   "id": "4ad5977f1d9ac71b",
   "outputs": [
    {
     "data": {
      "text/plain": [
       "'data/도로교통공단_월별 주야별 교통사고(2021).csv'"
      ]
     },
     "execution_count": 2,
     "metadata": {},
     "output_type": "execute_result"
    }
   ],
   "execution_count": 2
  },
  {
   "metadata": {
    "ExecuteTime": {
     "end_time": "2024-08-02T08:39:48.364709Z",
     "start_time": "2024-08-02T08:39:48.354868Z"
    }
   },
   "cell_type": "code",
   "source": "pd.read_csv(file_name, encoding='cp949')",
   "id": "cdb425482c9fd9a9",
   "outputs": [
    {
     "data": {
      "text/plain": [
       "    발생월 주야   사고건수  사망자수  중상자수   경상자수  부상신고자수\n",
       "0     1  주   8821   107  2421   9631     707\n",
       "1     1  야   6088    90  1627   6510     427\n",
       "2     2  주   8756   107  2468   9681     670\n",
       "3     2  야   5755    96  1572   6286     483\n",
       "4     3  주  10274   128  2787  11163     820\n",
       "5     3  야   6326    81  1775   6859     524\n",
       "6     4  주  11032   119  3105  11935     819\n",
       "7     4  야   6371    93  1878   6887     518\n",
       "8     5  주  11025   154  3010  12132     922\n",
       "9     5  야   6353   101  1762   6779     520\n",
       "10    6  주  11310   124  3286  12244     865\n",
       "11    6  야   6265   103  1733   6593     569\n",
       "12    7  주  11408   139  3132  12435     892\n",
       "13    7  야   6586   115  1829   7024     558\n",
       "14    8  주  10407   129  2878  11541     854\n",
       "15    8  야   6011   118  1638   6365     506\n",
       "16    9  주  10869   131  2959  11885     856\n",
       "17    9  야   6143   115  1747   6299     506\n",
       "18   10  주  11229   156  3064  12129     882\n",
       "19   10  야   7071   156  1935   7732     565\n",
       "20   11  주  11223   163  3124  11890     922\n",
       "21   11  야   6873   122  1884   7284     602\n",
       "22   12  주  10318   149  2658  10936     916\n",
       "23   12  야   6616   120  1633   7063     517"
      ],
      "text/html": [
       "<div>\n",
       "<style scoped>\n",
       "    .dataframe tbody tr th:only-of-type {\n",
       "        vertical-align: middle;\n",
       "    }\n",
       "\n",
       "    .dataframe tbody tr th {\n",
       "        vertical-align: top;\n",
       "    }\n",
       "\n",
       "    .dataframe thead th {\n",
       "        text-align: right;\n",
       "    }\n",
       "</style>\n",
       "<table border=\"1\" class=\"dataframe\">\n",
       "  <thead>\n",
       "    <tr style=\"text-align: right;\">\n",
       "      <th></th>\n",
       "      <th>발생월</th>\n",
       "      <th>주야</th>\n",
       "      <th>사고건수</th>\n",
       "      <th>사망자수</th>\n",
       "      <th>중상자수</th>\n",
       "      <th>경상자수</th>\n",
       "      <th>부상신고자수</th>\n",
       "    </tr>\n",
       "  </thead>\n",
       "  <tbody>\n",
       "    <tr>\n",
       "      <th>0</th>\n",
       "      <td>1</td>\n",
       "      <td>주</td>\n",
       "      <td>8821</td>\n",
       "      <td>107</td>\n",
       "      <td>2421</td>\n",
       "      <td>9631</td>\n",
       "      <td>707</td>\n",
       "    </tr>\n",
       "    <tr>\n",
       "      <th>1</th>\n",
       "      <td>1</td>\n",
       "      <td>야</td>\n",
       "      <td>6088</td>\n",
       "      <td>90</td>\n",
       "      <td>1627</td>\n",
       "      <td>6510</td>\n",
       "      <td>427</td>\n",
       "    </tr>\n",
       "    <tr>\n",
       "      <th>2</th>\n",
       "      <td>2</td>\n",
       "      <td>주</td>\n",
       "      <td>8756</td>\n",
       "      <td>107</td>\n",
       "      <td>2468</td>\n",
       "      <td>9681</td>\n",
       "      <td>670</td>\n",
       "    </tr>\n",
       "    <tr>\n",
       "      <th>3</th>\n",
       "      <td>2</td>\n",
       "      <td>야</td>\n",
       "      <td>5755</td>\n",
       "      <td>96</td>\n",
       "      <td>1572</td>\n",
       "      <td>6286</td>\n",
       "      <td>483</td>\n",
       "    </tr>\n",
       "    <tr>\n",
       "      <th>4</th>\n",
       "      <td>3</td>\n",
       "      <td>주</td>\n",
       "      <td>10274</td>\n",
       "      <td>128</td>\n",
       "      <td>2787</td>\n",
       "      <td>11163</td>\n",
       "      <td>820</td>\n",
       "    </tr>\n",
       "    <tr>\n",
       "      <th>5</th>\n",
       "      <td>3</td>\n",
       "      <td>야</td>\n",
       "      <td>6326</td>\n",
       "      <td>81</td>\n",
       "      <td>1775</td>\n",
       "      <td>6859</td>\n",
       "      <td>524</td>\n",
       "    </tr>\n",
       "    <tr>\n",
       "      <th>6</th>\n",
       "      <td>4</td>\n",
       "      <td>주</td>\n",
       "      <td>11032</td>\n",
       "      <td>119</td>\n",
       "      <td>3105</td>\n",
       "      <td>11935</td>\n",
       "      <td>819</td>\n",
       "    </tr>\n",
       "    <tr>\n",
       "      <th>7</th>\n",
       "      <td>4</td>\n",
       "      <td>야</td>\n",
       "      <td>6371</td>\n",
       "      <td>93</td>\n",
       "      <td>1878</td>\n",
       "      <td>6887</td>\n",
       "      <td>518</td>\n",
       "    </tr>\n",
       "    <tr>\n",
       "      <th>8</th>\n",
       "      <td>5</td>\n",
       "      <td>주</td>\n",
       "      <td>11025</td>\n",
       "      <td>154</td>\n",
       "      <td>3010</td>\n",
       "      <td>12132</td>\n",
       "      <td>922</td>\n",
       "    </tr>\n",
       "    <tr>\n",
       "      <th>9</th>\n",
       "      <td>5</td>\n",
       "      <td>야</td>\n",
       "      <td>6353</td>\n",
       "      <td>101</td>\n",
       "      <td>1762</td>\n",
       "      <td>6779</td>\n",
       "      <td>520</td>\n",
       "    </tr>\n",
       "    <tr>\n",
       "      <th>10</th>\n",
       "      <td>6</td>\n",
       "      <td>주</td>\n",
       "      <td>11310</td>\n",
       "      <td>124</td>\n",
       "      <td>3286</td>\n",
       "      <td>12244</td>\n",
       "      <td>865</td>\n",
       "    </tr>\n",
       "    <tr>\n",
       "      <th>11</th>\n",
       "      <td>6</td>\n",
       "      <td>야</td>\n",
       "      <td>6265</td>\n",
       "      <td>103</td>\n",
       "      <td>1733</td>\n",
       "      <td>6593</td>\n",
       "      <td>569</td>\n",
       "    </tr>\n",
       "    <tr>\n",
       "      <th>12</th>\n",
       "      <td>7</td>\n",
       "      <td>주</td>\n",
       "      <td>11408</td>\n",
       "      <td>139</td>\n",
       "      <td>3132</td>\n",
       "      <td>12435</td>\n",
       "      <td>892</td>\n",
       "    </tr>\n",
       "    <tr>\n",
       "      <th>13</th>\n",
       "      <td>7</td>\n",
       "      <td>야</td>\n",
       "      <td>6586</td>\n",
       "      <td>115</td>\n",
       "      <td>1829</td>\n",
       "      <td>7024</td>\n",
       "      <td>558</td>\n",
       "    </tr>\n",
       "    <tr>\n",
       "      <th>14</th>\n",
       "      <td>8</td>\n",
       "      <td>주</td>\n",
       "      <td>10407</td>\n",
       "      <td>129</td>\n",
       "      <td>2878</td>\n",
       "      <td>11541</td>\n",
       "      <td>854</td>\n",
       "    </tr>\n",
       "    <tr>\n",
       "      <th>15</th>\n",
       "      <td>8</td>\n",
       "      <td>야</td>\n",
       "      <td>6011</td>\n",
       "      <td>118</td>\n",
       "      <td>1638</td>\n",
       "      <td>6365</td>\n",
       "      <td>506</td>\n",
       "    </tr>\n",
       "    <tr>\n",
       "      <th>16</th>\n",
       "      <td>9</td>\n",
       "      <td>주</td>\n",
       "      <td>10869</td>\n",
       "      <td>131</td>\n",
       "      <td>2959</td>\n",
       "      <td>11885</td>\n",
       "      <td>856</td>\n",
       "    </tr>\n",
       "    <tr>\n",
       "      <th>17</th>\n",
       "      <td>9</td>\n",
       "      <td>야</td>\n",
       "      <td>6143</td>\n",
       "      <td>115</td>\n",
       "      <td>1747</td>\n",
       "      <td>6299</td>\n",
       "      <td>506</td>\n",
       "    </tr>\n",
       "    <tr>\n",
       "      <th>18</th>\n",
       "      <td>10</td>\n",
       "      <td>주</td>\n",
       "      <td>11229</td>\n",
       "      <td>156</td>\n",
       "      <td>3064</td>\n",
       "      <td>12129</td>\n",
       "      <td>882</td>\n",
       "    </tr>\n",
       "    <tr>\n",
       "      <th>19</th>\n",
       "      <td>10</td>\n",
       "      <td>야</td>\n",
       "      <td>7071</td>\n",
       "      <td>156</td>\n",
       "      <td>1935</td>\n",
       "      <td>7732</td>\n",
       "      <td>565</td>\n",
       "    </tr>\n",
       "    <tr>\n",
       "      <th>20</th>\n",
       "      <td>11</td>\n",
       "      <td>주</td>\n",
       "      <td>11223</td>\n",
       "      <td>163</td>\n",
       "      <td>3124</td>\n",
       "      <td>11890</td>\n",
       "      <td>922</td>\n",
       "    </tr>\n",
       "    <tr>\n",
       "      <th>21</th>\n",
       "      <td>11</td>\n",
       "      <td>야</td>\n",
       "      <td>6873</td>\n",
       "      <td>122</td>\n",
       "      <td>1884</td>\n",
       "      <td>7284</td>\n",
       "      <td>602</td>\n",
       "    </tr>\n",
       "    <tr>\n",
       "      <th>22</th>\n",
       "      <td>12</td>\n",
       "      <td>주</td>\n",
       "      <td>10318</td>\n",
       "      <td>149</td>\n",
       "      <td>2658</td>\n",
       "      <td>10936</td>\n",
       "      <td>916</td>\n",
       "    </tr>\n",
       "    <tr>\n",
       "      <th>23</th>\n",
       "      <td>12</td>\n",
       "      <td>야</td>\n",
       "      <td>6616</td>\n",
       "      <td>120</td>\n",
       "      <td>1633</td>\n",
       "      <td>7063</td>\n",
       "      <td>517</td>\n",
       "    </tr>\n",
       "  </tbody>\n",
       "</table>\n",
       "</div>"
      ]
     },
     "execution_count": 3,
     "metadata": {},
     "output_type": "execute_result"
    }
   ],
   "execution_count": 3
  },
  {
   "metadata": {},
   "cell_type": "markdown",
   "source": "### 여러 파일을 한번에 로드하는 방법",
   "id": "77f1969c0bf71c35"
  },
  {
   "metadata": {
    "ExecuteTime": {
     "end_time": "2024-08-02T08:39:48.369206Z",
     "start_time": "2024-08-02T08:39:48.366450Z"
    }
   },
   "cell_type": "code",
   "source": [
    "file_csv = glob(\"data/*.csv\")\n",
    "file_csv"
   ],
   "id": "9651fd2b167a61a7",
   "outputs": [
    {
     "data": {
      "text/plain": [
       "['data/도로교통공단_월별 주야별 교통사고(2021).csv',\n",
       " 'data/도로교통공단_월별 주야별 교통사고(2020).csv',\n",
       " 'data/도로교통공단_월별 주야별 교통사고(2019).csv',\n",
       " 'data/도로교통공단_월별 주야별 교통사고 통계_20231231.csv',\n",
       " 'data/도로교통공단_월별 주야별 교통사고(2022).csv',\n",
       " 'data/도로교통공단_월별 주야별 교통사고(2018).csv']"
      ]
     },
     "execution_count": 4,
     "metadata": {},
     "output_type": "execute_result"
    }
   ],
   "execution_count": 4
  },
  {
   "metadata": {
    "ExecuteTime": {
     "end_time": "2024-08-02T08:39:48.375394Z",
     "start_time": "2024-08-02T08:39:48.369940Z"
    }
   },
   "cell_type": "code",
   "source": [
    "file_list = []\n",
    "for file_csv_name in file_csv:\n",
    "    print(file_csv_name)\n",
    "    file_list.append(pd.read_csv(file_csv_name, encoding='cp949'))"
   ],
   "id": "bf5f65f43d2fa517",
   "outputs": [
    {
     "name": "stdout",
     "output_type": "stream",
     "text": [
      "data/도로교통공단_월별 주야별 교통사고(2021).csv\n",
      "data/도로교통공단_월별 주야별 교통사고(2020).csv\n",
      "data/도로교통공단_월별 주야별 교통사고(2019).csv\n",
      "data/도로교통공단_월별 주야별 교통사고 통계_20231231.csv\n",
      "data/도로교통공단_월별 주야별 교통사고(2022).csv\n",
      "data/도로교통공단_월별 주야별 교통사고(2018).csv\n"
     ]
    }
   ],
   "execution_count": 5
  },
  {
   "metadata": {
    "ExecuteTime": {
     "end_time": "2024-08-02T08:39:48.379214Z",
     "start_time": "2024-08-02T08:39:48.376019Z"
    }
   },
   "cell_type": "code",
   "source": "len(file_list)",
   "id": "b4b58edf7e3d3b8f",
   "outputs": [
    {
     "data": {
      "text/plain": [
       "6"
      ]
     },
     "execution_count": 6,
     "metadata": {},
     "output_type": "execute_result"
    }
   ],
   "execution_count": 6
  },
  {
   "metadata": {
    "ExecuteTime": {
     "end_time": "2024-08-02T08:39:48.383857Z",
     "start_time": "2024-08-02T08:39:48.379776Z"
    }
   },
   "cell_type": "code",
   "source": [
    "df = pd.concat(file_list)\n",
    "df.shape"
   ],
   "id": "b032195b195a5a15",
   "outputs": [
    {
     "data": {
      "text/plain": [
       "(144, 8)"
      ]
     },
     "execution_count": 7,
     "metadata": {},
     "output_type": "execute_result"
    }
   ],
   "execution_count": 7
  },
  {
   "metadata": {
    "ExecuteTime": {
     "end_time": "2024-08-02T08:39:48.389969Z",
     "start_time": "2024-08-02T08:39:48.384449Z"
    }
   },
   "cell_type": "code",
   "source": "df.head()",
   "id": "7763ad7de8412366",
   "outputs": [
    {
     "data": {
      "text/plain": [
       "   발생월 주야   사고건수  사망자수  중상자수   경상자수  부상신고자수   월\n",
       "0  1.0  주   8821   107  2421   9631     707 NaN\n",
       "1  1.0  야   6088    90  1627   6510     427 NaN\n",
       "2  2.0  주   8756   107  2468   9681     670 NaN\n",
       "3  2.0  야   5755    96  1572   6286     483 NaN\n",
       "4  3.0  주  10274   128  2787  11163     820 NaN"
      ],
      "text/html": [
       "<div>\n",
       "<style scoped>\n",
       "    .dataframe tbody tr th:only-of-type {\n",
       "        vertical-align: middle;\n",
       "    }\n",
       "\n",
       "    .dataframe tbody tr th {\n",
       "        vertical-align: top;\n",
       "    }\n",
       "\n",
       "    .dataframe thead th {\n",
       "        text-align: right;\n",
       "    }\n",
       "</style>\n",
       "<table border=\"1\" class=\"dataframe\">\n",
       "  <thead>\n",
       "    <tr style=\"text-align: right;\">\n",
       "      <th></th>\n",
       "      <th>발생월</th>\n",
       "      <th>주야</th>\n",
       "      <th>사고건수</th>\n",
       "      <th>사망자수</th>\n",
       "      <th>중상자수</th>\n",
       "      <th>경상자수</th>\n",
       "      <th>부상신고자수</th>\n",
       "      <th>월</th>\n",
       "    </tr>\n",
       "  </thead>\n",
       "  <tbody>\n",
       "    <tr>\n",
       "      <th>0</th>\n",
       "      <td>1.0</td>\n",
       "      <td>주</td>\n",
       "      <td>8821</td>\n",
       "      <td>107</td>\n",
       "      <td>2421</td>\n",
       "      <td>9631</td>\n",
       "      <td>707</td>\n",
       "      <td>NaN</td>\n",
       "    </tr>\n",
       "    <tr>\n",
       "      <th>1</th>\n",
       "      <td>1.0</td>\n",
       "      <td>야</td>\n",
       "      <td>6088</td>\n",
       "      <td>90</td>\n",
       "      <td>1627</td>\n",
       "      <td>6510</td>\n",
       "      <td>427</td>\n",
       "      <td>NaN</td>\n",
       "    </tr>\n",
       "    <tr>\n",
       "      <th>2</th>\n",
       "      <td>2.0</td>\n",
       "      <td>주</td>\n",
       "      <td>8756</td>\n",
       "      <td>107</td>\n",
       "      <td>2468</td>\n",
       "      <td>9681</td>\n",
       "      <td>670</td>\n",
       "      <td>NaN</td>\n",
       "    </tr>\n",
       "    <tr>\n",
       "      <th>3</th>\n",
       "      <td>2.0</td>\n",
       "      <td>야</td>\n",
       "      <td>5755</td>\n",
       "      <td>96</td>\n",
       "      <td>1572</td>\n",
       "      <td>6286</td>\n",
       "      <td>483</td>\n",
       "      <td>NaN</td>\n",
       "    </tr>\n",
       "    <tr>\n",
       "      <th>4</th>\n",
       "      <td>3.0</td>\n",
       "      <td>주</td>\n",
       "      <td>10274</td>\n",
       "      <td>128</td>\n",
       "      <td>2787</td>\n",
       "      <td>11163</td>\n",
       "      <td>820</td>\n",
       "      <td>NaN</td>\n",
       "    </tr>\n",
       "  </tbody>\n",
       "</table>\n",
       "</div>"
      ]
     },
     "execution_count": 8,
     "metadata": {},
     "output_type": "execute_result"
    }
   ],
   "execution_count": 8
  },
  {
   "metadata": {
    "ExecuteTime": {
     "end_time": "2024-08-02T08:39:48.395874Z",
     "start_time": "2024-08-02T08:39:48.391019Z"
    }
   },
   "cell_type": "code",
   "source": "df.tail()",
   "id": "8436a71bebd6ee30",
   "outputs": [
    {
     "data": {
      "text/plain": [
       "    발생월 주야   사고건수  사망자수  중상자수   경상자수  부상신고자수     월\n",
       "19  NaN  주  11638   204  3999  11888    1099  10.0\n",
       "20  NaN  야   7735   135  2622   8006     722  11.0\n",
       "21  NaN  주  11294   163  3893  11662    1095  11.0\n",
       "22  NaN  야   7574   159  2405   7905     799  12.0\n",
       "23  NaN  주  10436   164  3278  11113     963  12.0"
      ],
      "text/html": [
       "<div>\n",
       "<style scoped>\n",
       "    .dataframe tbody tr th:only-of-type {\n",
       "        vertical-align: middle;\n",
       "    }\n",
       "\n",
       "    .dataframe tbody tr th {\n",
       "        vertical-align: top;\n",
       "    }\n",
       "\n",
       "    .dataframe thead th {\n",
       "        text-align: right;\n",
       "    }\n",
       "</style>\n",
       "<table border=\"1\" class=\"dataframe\">\n",
       "  <thead>\n",
       "    <tr style=\"text-align: right;\">\n",
       "      <th></th>\n",
       "      <th>발생월</th>\n",
       "      <th>주야</th>\n",
       "      <th>사고건수</th>\n",
       "      <th>사망자수</th>\n",
       "      <th>중상자수</th>\n",
       "      <th>경상자수</th>\n",
       "      <th>부상신고자수</th>\n",
       "      <th>월</th>\n",
       "    </tr>\n",
       "  </thead>\n",
       "  <tbody>\n",
       "    <tr>\n",
       "      <th>19</th>\n",
       "      <td>NaN</td>\n",
       "      <td>주</td>\n",
       "      <td>11638</td>\n",
       "      <td>204</td>\n",
       "      <td>3999</td>\n",
       "      <td>11888</td>\n",
       "      <td>1099</td>\n",
       "      <td>10.0</td>\n",
       "    </tr>\n",
       "    <tr>\n",
       "      <th>20</th>\n",
       "      <td>NaN</td>\n",
       "      <td>야</td>\n",
       "      <td>7735</td>\n",
       "      <td>135</td>\n",
       "      <td>2622</td>\n",
       "      <td>8006</td>\n",
       "      <td>722</td>\n",
       "      <td>11.0</td>\n",
       "    </tr>\n",
       "    <tr>\n",
       "      <th>21</th>\n",
       "      <td>NaN</td>\n",
       "      <td>주</td>\n",
       "      <td>11294</td>\n",
       "      <td>163</td>\n",
       "      <td>3893</td>\n",
       "      <td>11662</td>\n",
       "      <td>1095</td>\n",
       "      <td>11.0</td>\n",
       "    </tr>\n",
       "    <tr>\n",
       "      <th>22</th>\n",
       "      <td>NaN</td>\n",
       "      <td>야</td>\n",
       "      <td>7574</td>\n",
       "      <td>159</td>\n",
       "      <td>2405</td>\n",
       "      <td>7905</td>\n",
       "      <td>799</td>\n",
       "      <td>12.0</td>\n",
       "    </tr>\n",
       "    <tr>\n",
       "      <th>23</th>\n",
       "      <td>NaN</td>\n",
       "      <td>주</td>\n",
       "      <td>10436</td>\n",
       "      <td>164</td>\n",
       "      <td>3278</td>\n",
       "      <td>11113</td>\n",
       "      <td>963</td>\n",
       "      <td>12.0</td>\n",
       "    </tr>\n",
       "  </tbody>\n",
       "</table>\n",
       "</div>"
      ]
     },
     "execution_count": 9,
     "metadata": {},
     "output_type": "execute_result"
    }
   ],
   "execution_count": 9
  },
  {
   "metadata": {
    "ExecuteTime": {
     "end_time": "2024-08-02T08:39:48.402406Z",
     "start_time": "2024-08-02T08:39:48.397803Z"
    }
   },
   "cell_type": "code",
   "source": "df.info()",
   "id": "3c9d8989c6c2ebf7",
   "outputs": [
    {
     "name": "stdout",
     "output_type": "stream",
     "text": [
      "<class 'pandas.core.frame.DataFrame'>\n",
      "Index: 144 entries, 0 to 23\n",
      "Data columns (total 8 columns):\n",
      " #   Column  Non-Null Count  Dtype  \n",
      "---  ------  --------------  -----  \n",
      " 0   발생월     96 non-null     float64\n",
      " 1   주야      144 non-null    object \n",
      " 2   사고건수    144 non-null    int64  \n",
      " 3   사망자수    144 non-null    int64  \n",
      " 4   중상자수    144 non-null    int64  \n",
      " 5   경상자수    144 non-null    int64  \n",
      " 6   부상신고자수  144 non-null    int64  \n",
      " 7   월       48 non-null     float64\n",
      "dtypes: float64(2), int64(5), object(1)\n",
      "memory usage: 10.1+ KB\n"
     ]
    }
   ],
   "execution_count": 10
  }
 ],
 "metadata": {
  "kernelspec": {
   "display_name": "Python 3",
   "language": "python",
   "name": "python3"
  },
  "language_info": {
   "codemirror_mode": {
    "name": "ipython",
    "version": 2
   },
   "file_extension": ".py",
   "mimetype": "text/x-python",
   "name": "python",
   "nbconvert_exporter": "python",
   "pygments_lexer": "ipython2",
   "version": "2.7.6"
  }
 },
 "nbformat": 4,
 "nbformat_minor": 5
}
